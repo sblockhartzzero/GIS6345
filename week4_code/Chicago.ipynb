{
 "cells": [
  {
   "cell_type": "code",
   "execution_count": 1,
   "id": "4159b19b-bfcf-42c3-8f8a-59f57d6233c7",
   "metadata": {},
   "outputs": [],
   "source": [
    "# For Part2 of Homework4 in GIS6345"
   ]
  },
  {
   "cell_type": "code",
   "execution_count": 1,
   "id": "14cdeaf2-7387-426d-b414-14ba643a1ba0",
   "metadata": {},
   "outputs": [],
   "source": [
    "# Imports\n",
    "import arcgis"
   ]
  },
  {
   "cell_type": "code",
   "execution_count": 2,
   "id": "98d5c8e6-240d-4c99-b60b-49f549988ccb",
   "metadata": {},
   "outputs": [],
   "source": [
    "from arcgis.gis import GIS\n",
    "gis = GIS()"
   ]
  },
  {
   "cell_type": "code",
   "execution_count": 3,
   "id": "636bf83d-21d9-46a6-8ce7-c6ff2dbda0fe",
   "metadata": {},
   "outputs": [],
   "source": [
    "map1 = gis.map('Chicago, IL')"
   ]
  },
  {
   "cell_type": "code",
   "execution_count": 4,
   "id": "2551f800-b3df-48f4-bf29-65851b671b9f",
   "metadata": {},
   "outputs": [
    {
     "data": {
      "application/vnd.jupyter.widget-view+json": {
       "model_id": "4db15c3ebe764ecaa988a9892c37ee19",
       "version_major": 2,
       "version_minor": 1
      },
      "text/plain": [
       "Map(center=[5143503.732040438, -9755193.922353486], extent={'xmin': -9777346.501021346, 'ymin': 5113795.216738…"
      ]
     },
     "execution_count": 4,
     "metadata": {},
     "output_type": "execute_result"
    }
   ],
   "source": [
    "map1"
   ]
  },
  {
   "cell_type": "code",
   "execution_count": 7,
   "id": "0c6d778c-caa8-4f65-8ac0-697bcb7d03e9",
   "metadata": {},
   "outputs": [
    {
     "data": {
      "text/plain": [
       "<FeatureLayer url:\"https://services3.arcgis.com/8mRVhBBtAu5eqZUu/arcgis/rest/services/Chicago_IndProp/FeatureServer/0\">"
      ]
     },
     "execution_count": 7,
     "metadata": {},
     "output_type": "execute_result"
    }
   ],
   "source": [
    "chicago_item = gis.content.get('ee16f399fb8e469aacfc48a0f2fc9f02')\n",
    "chicago_layer = chicago_item.layers[0]\n",
    "chicago_layer"
   ]
  },
  {
   "cell_type": "code",
   "execution_count": 8,
   "id": "3201115d-9501-4a8d-84cf-4e3fd1451336",
   "metadata": {},
   "outputs": [],
   "source": [
    "map1.content.add(chicago_layer)"
   ]
  },
  {
   "cell_type": "code",
   "execution_count": null,
   "id": "d11c8bb1-c219-4113-bdc2-d42161e7d253",
   "metadata": {},
   "outputs": [],
   "source": []
  }
 ],
 "metadata": {
  "kernelspec": {
   "display_name": "Python 3 (ipykernel)",
   "language": "python",
   "name": "python3"
  },
  "language_info": {
   "codemirror_mode": {
    "name": "ipython",
    "version": 3
   },
   "file_extension": ".py",
   "mimetype": "text/x-python",
   "name": "python",
   "nbconvert_exporter": "python",
   "pygments_lexer": "ipython3",
   "version": "3.11.10"
  }
 },
 "nbformat": 4,
 "nbformat_minor": 5
}

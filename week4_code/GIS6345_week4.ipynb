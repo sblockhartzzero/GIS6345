{
 "cells": [
  {
   "cell_type": "code",
   "execution_count": 8,
   "id": "ad3c4e13-34c3-4398-a373-75b945678115",
   "metadata": {},
   "outputs": [],
   "source": [
    "# From thinkpython2.pdf:\n",
    "# Exercise 8.2. There is a string method called count that is similar to the function in Section 8.7.\n",
    "# Read the documentation of this method and write an invocation that counts the number of a’s in\n",
    "#'banana'."
   ]
  },
  {
   "cell_type": "code",
   "execution_count": 9,
   "id": "40866163-02c4-43fa-b5ed-bf658394b5cc",
   "metadata": {},
   "outputs": [],
   "source": [
    "myString = 'banana'\n",
    "num_chars = myString.count('a')"
   ]
  },
  {
   "cell_type": "code",
   "execution_count": 10,
   "id": "eac1c3a4-d06e-475a-99b4-13a42af7aa17",
   "metadata": {},
   "outputs": [
    {
     "data": {
      "text/plain": [
       "3"
      ]
     },
     "execution_count": 10,
     "metadata": {},
     "output_type": "execute_result"
    }
   ],
   "source": [
    "num_chars"
   ]
  },
  {
   "cell_type": "code",
   "execution_count": 11,
   "id": "60587034-b8ab-4e56-9549-251a37cf0da8",
   "metadata": {},
   "outputs": [],
   "source": [
    "# From thinkpython2.pdf:\n",
    "# Exercise 8.3:\n",
    "# A step size of -1 goes through the word backwards, so the slice [::-1] generates a reversed string.\n",
    "# Use this idiom to write a one-line version of is_palindrome from Exercise 6.3."
   ]
  },
  {
   "cell_type": "code",
   "execution_count": 12,
   "id": "851d4f56-fe2c-4d97-b93c-191da78a680e",
   "metadata": {},
   "outputs": [],
   "source": [
    "def is_palindrome(word):\n",
    "    if (word == word[::-1]):\n",
    "        return True\n",
    "    else:\n",
    "        return False\n",
    "    #endif    "
   ]
  },
  {
   "cell_type": "code",
   "execution_count": 13,
   "id": "36ca2be2-37f6-4363-9b36-485e84dd4202",
   "metadata": {},
   "outputs": [
    {
     "data": {
      "text/plain": [
       "True"
      ]
     },
     "execution_count": 13,
     "metadata": {},
     "output_type": "execute_result"
    }
   ],
   "source": [
    "# Test is_palindrome\n",
    "is_palindrome('ABCDEDCBA')"
   ]
  },
  {
   "cell_type": "code",
   "execution_count": 14,
   "id": "0d09d789-8331-4aed-9b3d-240093a9ee9c",
   "metadata": {},
   "outputs": [
    {
     "data": {
      "text/plain": [
       "False"
      ]
     },
     "execution_count": 14,
     "metadata": {},
     "output_type": "execute_result"
    }
   ],
   "source": [
    "# Test is_palindrome\n",
    "is_palindrome('GIS6345')"
   ]
  },
  {
   "cell_type": "code",
   "execution_count": null,
   "id": "7586b584-b2f7-45a6-a853-b7147dad35ed",
   "metadata": {},
   "outputs": [],
   "source": []
  }
 ],
 "metadata": {
  "kernelspec": {
   "display_name": "Python 3 (ipykernel)",
   "language": "python",
   "name": "python3"
  },
  "language_info": {
   "codemirror_mode": {
    "name": "ipython",
    "version": 3
   },
   "file_extension": ".py",
   "mimetype": "text/x-python",
   "name": "python",
   "nbconvert_exporter": "python",
   "pygments_lexer": "ipython3",
   "version": "3.13.7"
  }
 },
 "nbformat": 4,
 "nbformat_minor": 5
}
